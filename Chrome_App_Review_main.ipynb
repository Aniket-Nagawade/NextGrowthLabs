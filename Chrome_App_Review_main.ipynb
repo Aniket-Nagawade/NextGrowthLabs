{
 "cells": [
  {
   "cell_type": "code",
   "execution_count": 1,
   "metadata": {},
   "outputs": [
    {
     "name": "stdout",
     "output_type": "stream",
     "text": [
      "[nltk_data] Downloading package vader_lexicon to\n",
      "[nltk_data]     C:\\Users\\anike\\AppData\\Roaming\\nltk_data...\n",
      "[nltk_data]   Package vader_lexicon is already up-to-date!\n"
     ]
    },
    {
     "name": "stderr",
     "output_type": "stream",
     "text": [
      "C:\\ProgramData\\Anaconda3\\lib\\site-packages\\gensim\\similarities\\__init__.py:15: UserWarning: The gensim.similarities.levenshtein submodule is disabled, because the optional Levenshtein package <https://pypi.org/project/python-Levenshtein/> is unavailable. Install Levenhstein (e.g. `pip install python-Levenshtein`) to suppress this warning.\n",
      "  warnings.warn(msg)\n"
     ]
    }
   ],
   "source": [
    "import re\n",
    "import numpy as np\n",
    "import pandas as pd\n",
    "from textblob import TextBlob\n",
    "#from vaderSentiment.vaderSentiment import SentimentIntensityAnalyzer\n",
    "import nltk\n",
    "nltk.download('vader_lexicon')\n",
    "from nltk.sentiment.vader import SentimentIntensityAnalyzer\n",
    "#import flair\n",
    "from flair.models import TextClassifier\n",
    "from flair.data import Sentence"
   ]
  },
  {
   "cell_type": "code",
   "execution_count": 2,
   "metadata": {},
   "outputs": [],
   "source": [
    "import streamlit as st"
   ]
  },
  {
   "cell_type": "code",
   "execution_count": 3,
   "metadata": {},
   "outputs": [],
   "source": [
    "#st.title('Chrome reviews')"
   ]
  },
  {
   "cell_type": "code",
   "execution_count": 4,
   "metadata": {},
   "outputs": [
    {
     "ename": "SyntaxError",
     "evalue": "(unicode error) 'unicodeescape' codec can't decode bytes in position 53-54: malformed \\N character escape (<ipython-input-4-0faac9fde607>, line 4)",
     "output_type": "error",
     "traceback": [
      "\u001b[1;36m  File \u001b[1;32m\"<ipython-input-4-0faac9fde607>\"\u001b[1;36m, line \u001b[1;32m4\u001b[0m\n\u001b[1;33m    return df'''\u001b[0m\n\u001b[1;37m               ^\u001b[0m\n\u001b[1;31mSyntaxError\u001b[0m\u001b[1;31m:\u001b[0m (unicode error) 'unicodeescape' codec can't decode bytes in position 53-54: malformed \\N character escape\n"
     ]
    }
   ],
   "source": [
    "'''#@st.cache\n",
    "def load_data():\n",
    "    df = pd.read_csv(r'D:\\NextLabs\\chrome_reviews.csv')\n",
    "    return df'''"
   ]
  },
  {
   "cell_type": "code",
   "execution_count": null,
   "metadata": {},
   "outputs": [],
   "source": [
    "#df = load_data()\n",
    "'''uploaded_file = st.file_uploader(\"Choose a file\")\n",
    "if uploaded_file is not None:\n",
    "    #read csv\n",
    "    df=pd.read_csv(uploaded_file)'''"
   ]
  },
  {
   "cell_type": "code",
   "execution_count": 5,
   "metadata": {},
   "outputs": [],
   "source": [
    "df = pd.read_csv(r'D:\\NextLabs\\chrome_reviews.csv')"
   ]
  },
  {
   "cell_type": "code",
   "execution_count": 6,
   "metadata": {},
   "outputs": [],
   "source": [
    "df = df[[\"ID\", \"Text\", \"Star\", \"Thumbs Up\"]]"
   ]
  },
  {
   "cell_type": "code",
   "execution_count": 7,
   "metadata": {},
   "outputs": [
    {
     "name": "stdout",
     "output_type": "stream",
     "text": [
      "Null data in the train dataset:\n",
      " ID           False\n",
      "Text          True\n",
      "Star         False\n",
      "Thumbs Up    False\n",
      "dtype: bool\n"
     ]
    }
   ],
   "source": [
    "print(\"Null data in the train dataset:\\n\", df.isnull().any())"
   ]
  },
  {
   "cell_type": "code",
   "execution_count": 8,
   "metadata": {},
   "outputs": [
    {
     "data": {
      "text/html": [
       "<div>\n",
       "<style scoped>\n",
       "    .dataframe tbody tr th:only-of-type {\n",
       "        vertical-align: middle;\n",
       "    }\n",
       "\n",
       "    .dataframe tbody tr th {\n",
       "        vertical-align: top;\n",
       "    }\n",
       "\n",
       "    .dataframe thead th {\n",
       "        text-align: right;\n",
       "    }\n",
       "</style>\n",
       "<table border=\"1\" class=\"dataframe\">\n",
       "  <thead>\n",
       "    <tr style=\"text-align: right;\">\n",
       "      <th></th>\n",
       "      <th>ID</th>\n",
       "      <th>Text</th>\n",
       "      <th>Star</th>\n",
       "      <th>Thumbs Up</th>\n",
       "    </tr>\n",
       "  </thead>\n",
       "  <tbody>\n",
       "    <tr>\n",
       "      <th>5163</th>\n",
       "      <td>390986</td>\n",
       "      <td>NaN</td>\n",
       "      <td>5</td>\n",
       "      <td>0</td>\n",
       "    </tr>\n",
       "  </tbody>\n",
       "</table>\n",
       "</div>"
      ],
      "text/plain": [
       "          ID Text  Star  Thumbs Up\n",
       "5163  390986  NaN     5          0"
      ]
     },
     "execution_count": 8,
     "metadata": {},
     "output_type": "execute_result"
    }
   ],
   "source": [
    "df[df['Text'].isnull()]"
   ]
  },
  {
   "cell_type": "code",
   "execution_count": 9,
   "metadata": {},
   "outputs": [],
   "source": [
    "df = df.dropna()"
   ]
  },
  {
   "cell_type": "code",
   "execution_count": 10,
   "metadata": {},
   "outputs": [
    {
     "name": "stdout",
     "output_type": "stream",
     "text": [
      "Null data in the train dataset:\n",
      " ID           False\n",
      "Text         False\n",
      "Star         False\n",
      "Thumbs Up    False\n",
      "dtype: bool\n"
     ]
    }
   ],
   "source": [
    "print(\"Null data in the train dataset:\\n\", df.isnull().any())"
   ]
  },
  {
   "cell_type": "code",
   "execution_count": 11,
   "metadata": {},
   "outputs": [],
   "source": [
    "sid = SentimentIntensityAnalyzer()"
   ]
  },
  {
   "cell_type": "code",
   "execution_count": 12,
   "metadata": {},
   "outputs": [],
   "source": [
    "df[\"compound_score\"] = [sid.polarity_scores(text)['compound'] for text in df['Text'].values]"
   ]
  },
  {
   "cell_type": "code",
   "execution_count": 13,
   "metadata": {},
   "outputs": [
    {
     "data": {
      "text/html": [
       "<div>\n",
       "<style scoped>\n",
       "    .dataframe tbody tr th:only-of-type {\n",
       "        vertical-align: middle;\n",
       "    }\n",
       "\n",
       "    .dataframe tbody tr th {\n",
       "        vertical-align: top;\n",
       "    }\n",
       "\n",
       "    .dataframe thead th {\n",
       "        text-align: right;\n",
       "    }\n",
       "</style>\n",
       "<table border=\"1\" class=\"dataframe\">\n",
       "  <thead>\n",
       "    <tr style=\"text-align: right;\">\n",
       "      <th></th>\n",
       "      <th>ID</th>\n",
       "      <th>Text</th>\n",
       "      <th>Star</th>\n",
       "      <th>Thumbs Up</th>\n",
       "      <th>compound_score</th>\n",
       "    </tr>\n",
       "  </thead>\n",
       "  <tbody>\n",
       "    <tr>\n",
       "      <th>0</th>\n",
       "      <td>3886</td>\n",
       "      <td>This is very helpfull aap.</td>\n",
       "      <td>5</td>\n",
       "      <td>0</td>\n",
       "      <td>0.0000</td>\n",
       "    </tr>\n",
       "    <tr>\n",
       "      <th>1</th>\n",
       "      <td>3887</td>\n",
       "      <td>Good</td>\n",
       "      <td>3</td>\n",
       "      <td>2</td>\n",
       "      <td>0.4404</td>\n",
       "    </tr>\n",
       "  </tbody>\n",
       "</table>\n",
       "</div>"
      ],
      "text/plain": [
       "     ID                        Text  Star  Thumbs Up  compound_score\n",
       "0  3886  This is very helpfull aap.     5          0          0.0000\n",
       "1  3887                        Good     3          2          0.4404"
      ]
     },
     "execution_count": 13,
     "metadata": {},
     "output_type": "execute_result"
    }
   ],
   "source": [
    "df.head(2)"
   ]
  },
  {
   "cell_type": "code",
   "execution_count": 14,
   "metadata": {},
   "outputs": [],
   "source": [
    "df['vader_score'] = [1 if x>0.05 else 0 for x in df['compound_score']]"
   ]
  },
  {
   "cell_type": "code",
   "execution_count": 15,
   "metadata": {},
   "outputs": [
    {
     "name": "stdout",
     "output_type": "stream",
     "text": [
      "2022-06-08 23:45:49,807 loading file C:\\Users\\anike\\.flair\\models\\sentiment-en-mix-distillbert_4.pt\n"
     ]
    }
   ],
   "source": [
    "flair_classifier = TextClassifier.load('en-sentiment')"
   ]
  },
  {
   "cell_type": "code",
   "execution_count": 16,
   "metadata": {},
   "outputs": [],
   "source": [
    "sentiment=[]\n",
    "confidence=[]\n",
    "\n",
    "for sentence in df['Text']:\n",
    "    sentence = Sentence(sentence)\n",
    "    flair_classifier.predict(sentence)\n",
    "    sentiment.append(sentence.labels[0].value)\n",
    "    confidence.append(sentence.labels[0].score)"
   ]
  },
  {
   "cell_type": "code",
   "execution_count": 17,
   "metadata": {},
   "outputs": [],
   "source": [
    "df[\"sentiment\"] = sentiment\n",
    "df[\"confidence\"] = confidence"
   ]
  },
  {
   "cell_type": "code",
   "execution_count": 18,
   "metadata": {},
   "outputs": [],
   "source": [
    "df['flair_score'] = [1 if x == 'POSITIVE' else 0 for x in df['sentiment']]"
   ]
  },
  {
   "cell_type": "code",
   "execution_count": 19,
   "metadata": {},
   "outputs": [
    {
     "data": {
      "text/html": [
       "<div>\n",
       "<style scoped>\n",
       "    .dataframe tbody tr th:only-of-type {\n",
       "        vertical-align: middle;\n",
       "    }\n",
       "\n",
       "    .dataframe tbody tr th {\n",
       "        vertical-align: top;\n",
       "    }\n",
       "\n",
       "    .dataframe thead th {\n",
       "        text-align: right;\n",
       "    }\n",
       "</style>\n",
       "<table border=\"1\" class=\"dataframe\">\n",
       "  <thead>\n",
       "    <tr style=\"text-align: right;\">\n",
       "      <th></th>\n",
       "      <th>ID</th>\n",
       "      <th>Text</th>\n",
       "      <th>Star</th>\n",
       "      <th>Thumbs Up</th>\n",
       "      <th>compound_score</th>\n",
       "      <th>vader_score</th>\n",
       "      <th>sentiment</th>\n",
       "      <th>confidence</th>\n",
       "      <th>flair_score</th>\n",
       "    </tr>\n",
       "  </thead>\n",
       "  <tbody>\n",
       "    <tr>\n",
       "      <th>0</th>\n",
       "      <td>3886</td>\n",
       "      <td>This is very helpfull aap.</td>\n",
       "      <td>5</td>\n",
       "      <td>0</td>\n",
       "      <td>0.0000</td>\n",
       "      <td>0</td>\n",
       "      <td>POSITIVE</td>\n",
       "      <td>0.979062</td>\n",
       "      <td>1</td>\n",
       "    </tr>\n",
       "    <tr>\n",
       "      <th>1</th>\n",
       "      <td>3887</td>\n",
       "      <td>Good</td>\n",
       "      <td>3</td>\n",
       "      <td>2</td>\n",
       "      <td>0.4404</td>\n",
       "      <td>1</td>\n",
       "      <td>POSITIVE</td>\n",
       "      <td>0.931395</td>\n",
       "      <td>1</td>\n",
       "    </tr>\n",
       "  </tbody>\n",
       "</table>\n",
       "</div>"
      ],
      "text/plain": [
       "     ID                        Text  Star  Thumbs Up  compound_score  \\\n",
       "0  3886  This is very helpfull aap.     5          0          0.0000   \n",
       "1  3887                        Good     3          2          0.4404   \n",
       "\n",
       "   vader_score sentiment  confidence  flair_score  \n",
       "0            0  POSITIVE    0.979062            1  \n",
       "1            1  POSITIVE    0.931395            1  "
      ]
     },
     "execution_count": 19,
     "metadata": {},
     "output_type": "execute_result"
    }
   ],
   "source": [
    "df.head(2)"
   ]
  },
  {
   "cell_type": "code",
   "execution_count": 20,
   "metadata": {},
   "outputs": [],
   "source": [
    "vader_accuracy, flair_accuracy, total = 0,0,0\n",
    "for index, row in df.iterrows():\n",
    "    if row['Star'] != 3:\n",
    "        total+=1\n",
    "        if (row['Star'] > 3 and row['flair_score'] ==1) or (row['Star'] < 3 and row['flair_score'] ==0):\n",
    "            flair_accuracy +=1\n",
    "        if (row['Star'] > 3 and row['vader_score'] ==1) or (row['Star'] < 3 and row['vader_score'] ==0):\n",
    "            vader_accuracy +=1        \n",
    "flair_accuracy = flair_accuracy/total\n",
    "vader_accuracy = vader_accuracy/total"
   ]
  },
  {
   "cell_type": "code",
   "execution_count": 21,
   "metadata": {},
   "outputs": [
    {
     "name": "stdout",
     "output_type": "stream",
     "text": [
      "The accuracy using vader is  0.7277843601895735\n",
      "The accuracy using flair is  0.831457345971564\n"
     ]
    }
   ],
   "source": [
    "print(\"The accuracy using vader is \", vader_accuracy)\n",
    "print(\"The accuracy using flair is \", flair_accuracy)"
   ]
  },
  {
   "cell_type": "markdown",
   "metadata": {},
   "source": [
    "The accuracy using Flair is the highest"
   ]
  },
  {
   "cell_type": "code",
   "execution_count": 23,
   "metadata": {},
   "outputs": [
    {
     "data": {
      "text/html": [
       "<div>\n",
       "<style scoped>\n",
       "    .dataframe tbody tr th:only-of-type {\n",
       "        vertical-align: middle;\n",
       "    }\n",
       "\n",
       "    .dataframe tbody tr th {\n",
       "        vertical-align: top;\n",
       "    }\n",
       "\n",
       "    .dataframe thead th {\n",
       "        text-align: right;\n",
       "    }\n",
       "</style>\n",
       "<table border=\"1\" class=\"dataframe\">\n",
       "  <thead>\n",
       "    <tr style=\"text-align: right;\">\n",
       "      <th></th>\n",
       "      <th>Text</th>\n",
       "      <th>Star</th>\n",
       "      <th>compound_score</th>\n",
       "    </tr>\n",
       "  </thead>\n",
       "  <tbody>\n",
       "    <tr>\n",
       "      <th>15</th>\n",
       "      <td>Very coming in real status. Thank you</td>\n",
       "      <td>1</td>\n",
       "      <td>0.3612</td>\n",
       "    </tr>\n",
       "    <tr>\n",
       "      <th>48</th>\n",
       "      <td>Unable to update won't load crashing at times ...</td>\n",
       "      <td>1</td>\n",
       "      <td>0.4404</td>\n",
       "    </tr>\n",
       "    <tr>\n",
       "      <th>58</th>\n",
       "      <td>Not good!</td>\n",
       "      <td>4</td>\n",
       "      <td>-0.4015</td>\n",
       "    </tr>\n",
       "    <tr>\n",
       "      <th>69</th>\n",
       "      <td>It's no update why?</td>\n",
       "      <td>5</td>\n",
       "      <td>-0.2960</td>\n",
       "    </tr>\n",
       "    <tr>\n",
       "      <th>101</th>\n",
       "      <td>Good</td>\n",
       "      <td>1</td>\n",
       "      <td>0.4404</td>\n",
       "    </tr>\n",
       "    <tr>\n",
       "      <th>...</th>\n",
       "      <td>...</td>\n",
       "      <td>...</td>\n",
       "      <td>...</td>\n",
       "    </tr>\n",
       "    <tr>\n",
       "      <th>7084</th>\n",
       "      <td>Very Bad service😠😞😠😞😠😞</td>\n",
       "      <td>5</td>\n",
       "      <td>-0.5849</td>\n",
       "    </tr>\n",
       "    <tr>\n",
       "      <th>7109</th>\n",
       "      <td>Trouble with getting proper access to webpages...</td>\n",
       "      <td>4</td>\n",
       "      <td>-0.9603</td>\n",
       "    </tr>\n",
       "    <tr>\n",
       "      <th>7147</th>\n",
       "      <td>I'm not able to update the app for some reason...</td>\n",
       "      <td>2</td>\n",
       "      <td>0.5080</td>\n",
       "    </tr>\n",
       "    <tr>\n",
       "      <th>7189</th>\n",
       "      <td>Frustration!!</td>\n",
       "      <td>4</td>\n",
       "      <td>-0.5696</td>\n",
       "    </tr>\n",
       "    <tr>\n",
       "      <th>7195</th>\n",
       "      <td>Chrome is good, I trust this update will make ...</td>\n",
       "      <td>1</td>\n",
       "      <td>0.8442</td>\n",
       "    </tr>\n",
       "  </tbody>\n",
       "</table>\n",
       "<p>460 rows × 3 columns</p>\n",
       "</div>"
      ],
      "text/plain": [
       "                                                   Text  Star  compound_score\n",
       "15                Very coming in real status. Thank you     1          0.3612\n",
       "48    Unable to update won't load crashing at times ...     1          0.4404\n",
       "58                                            Not good!     4         -0.4015\n",
       "69                                  It's no update why?     5         -0.2960\n",
       "101                                                Good     1          0.4404\n",
       "...                                                 ...   ...             ...\n",
       "7084                             Very Bad service😠😞😠😞😠😞     5         -0.5849\n",
       "7109  Trouble with getting proper access to webpages...     4         -0.9603\n",
       "7147  I'm not able to update the app for some reason...     2          0.5080\n",
       "7189                                      Frustration!!     4         -0.5696\n",
       "7195  Chrome is good, I trust this update will make ...     1          0.8442\n",
       "\n",
       "[460 rows x 3 columns]"
      ]
     },
     "execution_count": 23,
     "metadata": {},
     "output_type": "execute_result"
    }
   ],
   "source": [
    "df[['Text','Star','compound_score']][((df['Star']<3) & (df['compound_score']>0.35)) | ((df['Star']>3) & (df['compound_score']<-0.05))]"
   ]
  },
  {
   "cell_type": "code",
   "execution_count": 26,
   "metadata": {},
   "outputs": [
    {
     "data": {
      "text/html": [
       "<div>\n",
       "<style scoped>\n",
       "    .dataframe tbody tr th:only-of-type {\n",
       "        vertical-align: middle;\n",
       "    }\n",
       "\n",
       "    .dataframe tbody tr th {\n",
       "        vertical-align: top;\n",
       "    }\n",
       "\n",
       "    .dataframe thead th {\n",
       "        text-align: right;\n",
       "    }\n",
       "</style>\n",
       "<table border=\"1\" class=\"dataframe\">\n",
       "  <thead>\n",
       "    <tr style=\"text-align: right;\">\n",
       "      <th></th>\n",
       "      <th>Text</th>\n",
       "      <th>Star</th>\n",
       "      <th>sentiment</th>\n",
       "      <th>confidence</th>\n",
       "    </tr>\n",
       "  </thead>\n",
       "  <tbody>\n",
       "    <tr>\n",
       "      <th>15</th>\n",
       "      <td>Very coming in real status. Thank you</td>\n",
       "      <td>1</td>\n",
       "      <td>POSITIVE</td>\n",
       "      <td>0.991135</td>\n",
       "    </tr>\n",
       "    <tr>\n",
       "      <th>25</th>\n",
       "      <td>Rait crom</td>\n",
       "      <td>5</td>\n",
       "      <td>NEGATIVE</td>\n",
       "      <td>0.997250</td>\n",
       "    </tr>\n",
       "    <tr>\n",
       "      <th>27</th>\n",
       "      <td>Continual Awe snaps... Fix it</td>\n",
       "      <td>4</td>\n",
       "      <td>NEGATIVE</td>\n",
       "      <td>0.757084</td>\n",
       "    </tr>\n",
       "    <tr>\n",
       "      <th>30</th>\n",
       "      <td>Data consuming</td>\n",
       "      <td>1</td>\n",
       "      <td>POSITIVE</td>\n",
       "      <td>0.986192</td>\n",
       "    </tr>\n",
       "    <tr>\n",
       "      <th>34</th>\n",
       "      <td>Not bad</td>\n",
       "      <td>5</td>\n",
       "      <td>NEGATIVE</td>\n",
       "      <td>0.818031</td>\n",
       "    </tr>\n",
       "    <tr>\n",
       "      <th>...</th>\n",
       "      <td>...</td>\n",
       "      <td>...</td>\n",
       "      <td>...</td>\n",
       "      <td>...</td>\n",
       "    </tr>\n",
       "    <tr>\n",
       "      <th>7181</th>\n",
       "      <td>Try to update chrome not Working</td>\n",
       "      <td>5</td>\n",
       "      <td>NEGATIVE</td>\n",
       "      <td>0.999637</td>\n",
       "    </tr>\n",
       "    <tr>\n",
       "      <th>7182</th>\n",
       "      <td>It's osm brows anything</td>\n",
       "      <td>5</td>\n",
       "      <td>NEGATIVE</td>\n",
       "      <td>0.978813</td>\n",
       "    </tr>\n",
       "    <tr>\n",
       "      <th>7187</th>\n",
       "      <td>Ponraj</td>\n",
       "      <td>5</td>\n",
       "      <td>NEGATIVE</td>\n",
       "      <td>0.999956</td>\n",
       "    </tr>\n",
       "    <tr>\n",
       "      <th>7189</th>\n",
       "      <td>Frustration!!</td>\n",
       "      <td>4</td>\n",
       "      <td>NEGATIVE</td>\n",
       "      <td>0.999874</td>\n",
       "    </tr>\n",
       "    <tr>\n",
       "      <th>7195</th>\n",
       "      <td>Chrome is good, I trust this update will make ...</td>\n",
       "      <td>1</td>\n",
       "      <td>POSITIVE</td>\n",
       "      <td>0.975747</td>\n",
       "    </tr>\n",
       "  </tbody>\n",
       "</table>\n",
       "<p>923 rows × 4 columns</p>\n",
       "</div>"
      ],
      "text/plain": [
       "                                                   Text  Star sentiment  \\\n",
       "15                Very coming in real status. Thank you     1  POSITIVE   \n",
       "25                                            Rait crom     5  NEGATIVE   \n",
       "27                        Continual Awe snaps... Fix it     4  NEGATIVE   \n",
       "30                                       Data consuming     1  POSITIVE   \n",
       "34                                              Not bad     5  NEGATIVE   \n",
       "...                                                 ...   ...       ...   \n",
       "7181                   Try to update chrome not Working     5  NEGATIVE   \n",
       "7182                            It's osm brows anything     5  NEGATIVE   \n",
       "7187                                             Ponraj     5  NEGATIVE   \n",
       "7189                                      Frustration!!     4  NEGATIVE   \n",
       "7195  Chrome is good, I trust this update will make ...     1  POSITIVE   \n",
       "\n",
       "      confidence  \n",
       "15      0.991135  \n",
       "25      0.997250  \n",
       "27      0.757084  \n",
       "30      0.986192  \n",
       "34      0.818031  \n",
       "...          ...  \n",
       "7181    0.999637  \n",
       "7182    0.978813  \n",
       "7187    0.999956  \n",
       "7189    0.999874  \n",
       "7195    0.975747  \n",
       "\n",
       "[923 rows x 4 columns]"
      ]
     },
     "execution_count": 26,
     "metadata": {},
     "output_type": "execute_result"
    }
   ],
   "source": [
    "df[['Text','Star','sentiment','confidence']][((df['Star']<3) & (df['flair_score']==1) & (df['confidence']>0.75)) | ((df['Star']>3) & (df['flair_score']==0) & (df['confidence']>0.75))]"
   ]
  },
  {
   "cell_type": "code",
   "execution_count": null,
   "metadata": {},
   "outputs": [],
   "source": []
  }
 ],
 "metadata": {
  "kernelspec": {
   "display_name": "Python 3",
   "language": "python",
   "name": "python3"
  },
  "language_info": {
   "codemirror_mode": {
    "name": "ipython",
    "version": 3
   },
   "file_extension": ".py",
   "mimetype": "text/x-python",
   "name": "python",
   "nbconvert_exporter": "python",
   "pygments_lexer": "ipython3",
   "version": "3.6.5"
  }
 },
 "nbformat": 4,
 "nbformat_minor": 2
}
